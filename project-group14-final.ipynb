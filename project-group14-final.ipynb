{
 "cells": [
  {
   "cell_type": "markdown",
   "metadata": {},
   "source": [
    "Project Group 14"
   ]
  },
  {
   "cell_type": "markdown",
   "metadata": {},
   "source": [
    "Adam Scott, Baron Schitka, Ashvin Kuruparan, Jimmy Kesikiadis "
   ]
  },
  {
   "cell_type": "markdown",
   "metadata": {},
   "source": [
    "Top 50 Spotify Songs - 2019\n",
    "https://www.kaggle.com/leonardopena/top50spotify2019"
   ]
  },
  {
   "cell_type": "markdown",
   "metadata": {},
   "source": [
    "It is information on data points about the top 50 Spotify songs of 2019. \n",
    "The way it was collected was that it is the 50 most listened Songs on Spotify and Spotify itself collected the data with the data that they collected from their own software."
   ]
  },
  {
   "cell_type": "markdown",
   "metadata": {},
   "source": [
    "    1.Track.Name-Name of the Track\n",
    "    2.Artist.Name-Name of the Artist\n",
    "    3.Genre-the genre of the track\n",
    "    4.Beats.Per.Minute-The tempo of the song.\n",
    "    5.Energy-The energy of a song - the higher the value, the more energetic. song\n",
    "    6.Danceability-The higher the value, the easier it is to dance to this song.\n",
    "    7.Loudness..dB..-The higher the value, the louder the song.\n",
    "    8.Liveness-The higher the value, the more likely the song is a live recording.\n",
    "    9.Valence.-The higher the value, the more positive the mood for the song.\n",
    "    10.Length.-The duration of the song.\n",
    "    11.Acousticness..-The higher the value the more acoustic the song is.\n",
    "    12.Speechiness.-The higher the value the more spoken word the song contains.\n",
    "    13.Popularity-The higher the value the more popular the song is."
   ]
  },
  {
   "cell_type": "code",
   "execution_count": 3,
   "metadata": {
    "scrolled": false
   },
   "outputs": [
    {
     "name": "stdout",
     "output_type": "stream",
     "text": [
      "BPM Range: 85 - 190\n",
      "Energy Range: 32 - 88\n",
      "Danceability Range: 29 - 90\n",
      "Loudness Range dB: -11 - -2\n",
      "Liveness Range: 5 - 58\n",
      "Valence Range: 10 - 95\n",
      "Length Range: 115 - 309\n",
      "Acousticness Range: 1 - 75\n",
      "Speechiness Range: 3 - 46\n",
      "Genre: {'panamanian pop', 'atl hip hop', 'trap music', 'canadian hip hop', 'country rap', 'r&b en espanol', 'australian pop', 'dfw rap', 'big room', 'pop', 'boy band', 'edm', 'dance pop', 'brostep', 'escape room', 'latin', 'electropop', 'reggaeton flow', 'canadian pop', 'pop house', 'reggaeton'}\n"
     ]
    }
   ],
   "source": [
    "#importing used libraries\n",
    "import csv\n",
    "import re\n",
    "from functools import reduce\n",
    "import numpy as np\n",
    "\n",
    "# this aux function reads the CSV file and returns the data in a Python dictionary\n",
    "def get_data_csv():\n",
    "    collection = []\n",
    "    with open('top50.csv', 'r') as f:\n",
    "        for line in csv.DictReader(f):\n",
    "            collection.append(line)\n",
    "        return collection\n",
    "        \n",
    "# the data    \n",
    "data = get_data_csv()\n",
    "\n",
    "#Gets all of the different genres\n",
    "def genre():\n",
    "    genre = []\n",
    "    for element in range(len(data)):\n",
    "        genre.append(data[element]['Genre'])\n",
    "    unique = set(genre)\n",
    "    return unique\n",
    "\n",
    "#Gets a list of all of the different BPM\n",
    "def bpm():\n",
    "    bpm = []\n",
    "    for element in range(len(data)):\n",
    "        bpm.append(int(data[element]['Beats.Per.Minute']))\n",
    "    return bpm\n",
    "\n",
    "#Gets a list of all of the different energy levels\n",
    "def energy():\n",
    "    energy = []\n",
    "    for element in range(len(data)):\n",
    "        energy.append(int(data[element]['Energy']))\n",
    "    return energy\n",
    "\n",
    "#Gets a list of all of the dancability metric \n",
    "def dance():\n",
    "    dance = []\n",
    "    for element in range(len(data)):\n",
    "        dance.append(int(data[element]['Danceability']))\n",
    "    return dance\n",
    "\n",
    "#Gets a list of all of the levels of loudness\n",
    "def loudness():\n",
    "    loudness = []\n",
    "    for element in range(len(data)):\n",
    "        loudness.append(int(data[element]['Loudness..dB..']))\n",
    "    return loudness\n",
    "\n",
    "#Gets a list of all of the levels of liveness\n",
    "def liveness():\n",
    "    liveness = []\n",
    "    for element in range(len(data)):\n",
    "        liveness.append(int(data[element]['Liveness']))\n",
    "    return liveness\n",
    "\n",
    "#Gets a list of all of the valance\n",
    "def valance():\n",
    "    valance = []\n",
    "    for element in range(len(data)):\n",
    "        valance.append(int(data[element]['Valence.']))\n",
    "    return valance\n",
    "\n",
    "#Gets a list of all of the different lengths \n",
    "def length():\n",
    "    length = []\n",
    "    for element in range(len(data)):\n",
    "        length.append(int(data[element]['Length.']))\n",
    "    return length\n",
    "\n",
    "def acousticness():\n",
    "    acousticness = []\n",
    "    for element in range(len(data)):\n",
    "        acousticness.append(int(data[element]['Acousticness..']))\n",
    "    return acousticness\n",
    "\n",
    "#Gets a list of all of the speechiness metrics\n",
    "def speechiness():\n",
    "    speechiness = []\n",
    "    for element in range(len(data)):\n",
    "        speechiness.append(int(data[element]['Speechiness.']))\n",
    "    return speechiness\n",
    "\n",
    "#Prints out the different ranges for all of the metrics \n",
    "print(\"BPM Range:\", min(bpm()),\"-\",max(bpm()))\n",
    "print(\"Energy Range:\", min(energy()),\"-\",max(energy()))\n",
    "print(\"Danceability Range:\", min(dance()),\"-\",max(dance()))\n",
    "print(\"Loudness Range dB:\", min(loudness()),\"-\",max(loudness()))\n",
    "print(\"Liveness Range:\", min(liveness()),\"-\",max(liveness()))\n",
    "print(\"Valence Range:\", min(valance()),\"-\",max(valance()))\n",
    "print(\"Length Range:\", min(length()),\"-\",max(length()))\n",
    "print(\"Acousticness Range:\", min(acousticness()),\"-\",max(acousticness()))\n",
    "print(\"Speechiness Range:\", min(speechiness()),\"-\",max(speechiness()))\n",
    "print(\"Genre:\",genre())\n",
    "\n",
    "#print(data)\n"
   ]
  },
  {
   "cell_type": "markdown",
   "metadata": {},
   "source": [
    "This dataset contained enough data variables that gives the dataset a high potential of analysis for interesting correlations.\n",
    "Furthermore, the topic (music, specifically that streamed from Spotify) was found to be very relatable to our group's members, and thus intriguing."
   ]
  },
  {
   "cell_type": "markdown",
   "metadata": {},
   "source": [
    "Apartment ratings in Toronto and Trending YouTube Video Statistics. YouTube video Statistics was also relatable to our group with it also being an important part of pop culture."
   ]
  },
  {
   "cell_type": "markdown",
   "metadata": {},
   "source": [
    "    1.Is there an even distribution of the number of occurrences per Artist?\n",
    "    2.Is there a relationship between an Artist's number of occurrences and the popularity of their\n",
    "    most popular song?\n",
    "    3.Does Genre correlate to Popularity?\n",
    "    4.Does Artist correlate to Popularity?\n",
    "    5.Do more popular song tend to be shorter?\n",
    "    6.Does BPM and Energy have any correlation?\n",
    "    7.Which artist shows up the most in the data set?\n",
    "    8.Do certain genres tend to have a higher energy or bpm?\n",
    "    9.Does Genre correlate to Popularity?\n",
    "    10.Is there any correlation between genre and length?\n"
   ]
  },
  {
   "cell_type": "markdown",
   "metadata": {},
   "source": [
    "In our final project the methods that we are going to apply to retrieve data from the data set is using map(), filter(), and reduce() along with imported functions like NumPy and Pandas. These functions will let us retrieve and compute data in a way so that we are able to answer our proposed questions."
   ]
  },
  {
   "cell_type": "markdown",
   "metadata": {},
   "source": [
    "The conclusions of this data may have potential in recommendations for artists, by incorporating into their songs any variables that correlate with popularity, and avoiding variables that are negatively correlated to it. Recommendations can be made to suggest the best elements to include in a song and a graphical representation could be made for ease of use. "
   ]
  }
 ],
 "metadata": {
  "kernelspec": {
   "display_name": "Python 3",
   "language": "python",
   "name": "python3"
  },
  "language_info": {
   "codemirror_mode": {
    "name": "ipython",
    "version": 3
   },
   "file_extension": ".py",
   "mimetype": "text/x-python",
   "name": "python",
   "nbconvert_exporter": "python",
   "pygments_lexer": "ipython3",
   "version": "3.7.6"
  }
 },
 "nbformat": 4,
 "nbformat_minor": 5
}
